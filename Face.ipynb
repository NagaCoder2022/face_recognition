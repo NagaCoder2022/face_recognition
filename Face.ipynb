{
 "cells": [
  {
   "cell_type": "code",
   "execution_count": 2,
   "id": "5079999e-c467-4b03-b33c-88839f0f9a7d",
   "metadata": {
    "scrolled": true
   },
   "outputs": [],
   "source": [
    "import cv2\n",
    "import face_recognition"
   ]
  },
  {
   "cell_type": "code",
   "execution_count": 3,
   "id": "a4c63e2a-ebe7-446b-b935-d507f69917e7",
   "metadata": {
    "scrolled": true
   },
   "outputs": [],
   "source": [
    "# Load the known image\n",
    "known_image = face_recognition.load_image_file(\"/home/rguktongole/Music/kamala.jpg\")\n",
    "known_encoding = face_recognition.face_encodings(known_image)[0]\n",
    "\n",
    "# Initialize video capture\n",
    "video_cap = cv2.VideoCapture(0)\n",
    "\n",
    "# Main loop for capturing and processing video frames\n",
    "while True:\n",
    "    ret, frame = video_cap.read()\n",
    "    if not ret:\n",
    "        print(\"Error: Unable to capture video\")\n",
    "        break\n",
    "    \n",
    "    # Find face locations and encodings in the frame\n",
    "    face_locations = face_recognition.face_locations(frame)\n",
    "    face_encodings = face_recognition.face_encodings(frame, face_locations)\n",
    "    \n",
    "    # Compare face encodings with the known encoding\n",
    "    recognized_name = \"Unknown Donot allow\"\n",
    "    for face_encoding in face_encodings:\n",
    "        matches = face_recognition.compare_faces([known_encoding], face_encoding)\n",
    "        if matches[0]:\n",
    "            recognized_name = \"Kamala\"  # Change the name as per your requirement\n",
    "            break\n",
    "    \n",
    "    # Display the recognized name on the frame\n",
    "    cv2.putText(frame, recognized_name, (50, 50), cv2.FONT_HERSHEY_SIMPLEX, 1, (0, 255, 0), 2)\n",
    "    \n",
    "    # Display the frame\n",
    "    cv2.imshow(\"Face Recognition\", frame)\n",
    "    \n",
    "    # Check for 'a' key press to exit\n",
    "    if cv2.waitKey(10) == ord(\"a\"):\n",
    "        break\n",
    "\n",
    "# Release video capture object and close windows\n",
    "video_cap.release()\n",
    "cv2.destroyAllWindows()\n"
   ]
  },
  {
   "cell_type": "code",
   "execution_count": null,
   "id": "73f004c6-44e1-4d69-8fab-463cfe469658",
   "metadata": {},
   "outputs": [],
   "source": []
  },
  {
   "cell_type": "code",
   "execution_count": null,
   "id": "b2d9a5b0-2aff-4d9e-bd8c-3a3337f8d6fb",
   "metadata": {},
   "outputs": [],
   "source": []
  },
  {
   "cell_type": "code",
   "execution_count": null,
   "id": "9dbcb520-7bf0-4b8d-97bd-835115e86212",
   "metadata": {},
   "outputs": [],
   "source": []
  }
 ],
 "metadata": {
  "kernelspec": {
   "display_name": "Python 3 (ipykernel)",
   "language": "python",
   "name": "python3"
  },
  "language_info": {
   "codemirror_mode": {
    "name": "ipython",
    "version": 3
   },
   "file_extension": ".py",
   "mimetype": "text/x-python",
   "name": "python",
   "nbconvert_exporter": "python",
   "pygments_lexer": "ipython3",
   "version": "3.8.10"
  }
 },
 "nbformat": 4,
 "nbformat_minor": 5
}
